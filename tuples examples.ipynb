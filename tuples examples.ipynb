{
 "cells": [
  {
   "cell_type": "markdown",
   "id": "9752cf7d",
   "metadata": {},
   "source": [
    "### Find the size of a Tuple in Python\n"
   ]
  },
  {
   "cell_type": "markdown",
   "id": "1d29fb49",
   "metadata": {},
   "source": [
    "he size of a tuple refers to the amount of memory the tuple occupies. It includes the memory used by each element, "
   ]
  },
  {
   "cell_type": "code",
   "execution_count": 16,
   "id": "a1bd9a59",
   "metadata": {},
   "outputs": [
    {
     "name": "stdout",
     "output_type": "stream",
     "text": [
      "88\n",
      "88\n",
      "72\n"
     ]
    }
   ],
   "source": [
    "#n Python, the sys.getsizeof() function from the sys module can be used to get the size of an object in bytes.\n",
    "import sys\n",
    "\n",
    "# sample Tuples\n",
    "tuple1 = (\"A\", 1, \"B\", 2, \"C\", 3)\n",
    "tuple2 = (\"rohit\", \"Raju\", \"geeta\", \"Nikhil\", \"shubranshu\", \"Deepanshu\")\n",
    "tuple3 = ((1, \"Lion\"), ( 2, \"Tiger\"), (3, \"Fox\"), (4, \"Wolf\"))\n",
    "\n",
    "print(sys.getsizeof(tuple1))\n",
    "\n",
    "print(sys.getsizeof(tuple2))\n",
    "\n",
    "\n",
    "print(sys.getsizeof(tuple3))"
   ]
  },
  {
   "cell_type": "code",
   "execution_count": 21,
   "id": "a1206a11",
   "metadata": {},
   "outputs": [
    {
     "name": "stdout",
     "output_type": "stream",
     "text": [
      "72\n",
      "72\n",
      "the size of  tuple1 : 72\n",
      "the size of tuple2 : 72\n"
     ]
    }
   ],
   "source": [
    "# using __sizeof__() function\n",
    "\n",
    "tuple2 = (\"rohit\", \"Raju\", \"geeta\", \"Nikhil\", \"shubranshu\", \"Deepanshu\")\n",
    "tuple3 = ((1, \"Lion\"), ( 2, \"Tiger\"), (3, \"Fox\"), (4, \"Wolf\"))\n",
    "\n",
    "print(tuple1.__sizeof__())\n",
    "\n",
    "print(tuple2.__sizeof__())\n",
    "\n",
    "\n",
    "\n",
    "print(\"the size of  tuple1 :\", tuple1.__sizeof__())\n",
    "\n",
    "print(\"the size of tuple2 :\", tuple2.__sizeof__())"
   ]
  },
  {
   "cell_type": "markdown",
   "id": "984076d5",
   "metadata": {},
   "source": [
    "### Python – Maximum and Minimum K elements in Tuple\n"
   ]
  },
  {
   "cell_type": "markdown",
   "id": "f3be8948",
   "metadata": {},
   "source": [
    "Input : test_tup = (3, 7, 1, 18, 9), k = 2 \n",
    "\n",
    "Output : (3, 1, 9, 18)\n",
    "\n"
   ]
  },
  {
   "cell_type": "code",
   "execution_count": 41,
   "id": "4e77d3ec",
   "metadata": {},
   "outputs": [
    {
     "name": "stdout",
     "output_type": "stream",
     "text": [
      "the original list is : (5, 20, 3, 7, 6, 8)\n",
      "sorted tuple is : [3, 5, 6, 7, 8, 20]\n",
      "(3, 5, 8, 20)\n"
     ]
    }
   ],
   "source": [
    "test_tup = (5, 20, 3, 7, 6, 8)\n",
    "\n",
    "k = 2\n",
    "\n",
    "print(\"the original list is :\",test_tup)\n",
    "\n",
    "listed = list(sorted(test_tup))\n",
    "\n",
    "\n",
    "print(\"sorted tuple is :\", listed)\n",
    "result = tuple(listed[:k]+listed[-k:])\n",
    "\n",
    "print(result)"
   ]
  },
  {
   "cell_type": "code",
   "execution_count": 1,
   "id": "50515d7d",
   "metadata": {},
   "outputs": [
    {
     "name": "stdout",
     "output_type": "stream",
     "text": [
      "the tuples after sorting is: [3, 5, 6, 7, 8, 20]\n",
      "enter the min and max position element to remove:2\n",
      "(3, 6, 7, 20)\n"
     ]
    }
   ],
   "source": [
    "def min_max(tups):\n",
    "    \n",
    "    listed = list(sorted(tups))\n",
    "    print(\"the tuples after sorting is:\",listed)\n",
    "    k = int(input(\"enter the min and max position element to remove:\"))\n",
    "    \n",
    "    for i in range(0, len(listed)):\n",
    "        if i==(k-1) or i == -(k):\n",
    "            listed.pop(k-1) and listed.pop(-k)\n",
    "    tuples = tuple(listed)\n",
    "    \n",
    "    return tuples\n",
    "    \n",
    "test_tup = (5, 20, 3, 7, 6, 8)\n",
    "print(min_max(test_tup))"
   ]
  },
  {
   "cell_type": "markdown",
   "id": "ae483bb0",
   "metadata": {},
   "source": [
    "### Python program to create a list of tuples from given list having number and its cube in each tuple"
   ]
  },
  {
   "cell_type": "markdown",
   "id": "db5927cf",
   "metadata": {},
   "source": [
    "Input: list = [1, 2, 3]\n",
    "    \n",
    "Output: [(1, 1), (2, 8), (3, 27)]"
   ]
  },
  {
   "cell_type": "code",
   "execution_count": 3,
   "id": "d0bbe13a",
   "metadata": {},
   "outputs": [
    {
     "name": "stdout",
     "output_type": "stream",
     "text": [
      "[(1, 1), (2, 8), (3, 27)]\n"
     ]
    }
   ],
   "source": [
    "roots = [1, 2, 3]\n",
    "\n",
    "result = [(val, val**3) for val in roots]\n",
    "\n",
    "print(result)"
   ]
  },
  {
   "cell_type": "code",
   "execution_count": 7,
   "id": "7cf139a5",
   "metadata": {},
   "outputs": [
    {
     "name": "stdout",
     "output_type": "stream",
     "text": [
      "[(1, 1), (2, 8), (9, 729)]\n"
     ]
    }
   ],
   "source": [
    "def cubes(roots):\n",
    "    \n",
    "    result = [(val , val**3) for val in roots]\n",
    "    \n",
    "    return result\n",
    "        \n",
    "    \n",
    "roots = [1, 2, 9]\n",
    "print(cubes(roots))"
   ]
  },
  {
   "cell_type": "code",
   "execution_count": 8,
   "id": "a63671b0",
   "metadata": {},
   "outputs": [
    {
     "name": "stdout",
     "output_type": "stream",
     "text": [
      "[(1, 1), (2, 8), (9, 729)]\n"
     ]
    }
   ],
   "source": [
    "# using lambda function\n",
    "\n",
    "roots = [1, 2, 9]\n",
    "\n",
    "\n",
    "result = list(map(lambda x:(x,x**3), roots))\n",
    "\n",
    "print(result)"
   ]
  },
  {
   "cell_type": "markdown",
   "id": "a860308b",
   "metadata": {},
   "source": [
    "### Python – Adding Tuple to List and vice – versa\n"
   ]
  },
  {
   "cell_type": "code",
   "execution_count": 25,
   "id": "7bdd0100",
   "metadata": {},
   "outputs": [
    {
     "name": "stdout",
     "output_type": "stream",
     "text": [
      "[12, 54]\n",
      "['rohit', 'gaurav', 'raj', 21, 24, 29]\n"
     ]
    }
   ],
   "source": [
    "list1 = ['rohit', 'gaurav', 'raj']\n",
    "\n",
    "tuple1 = (21,24,29)\n",
    "list3 = list(tuple1)\n",
    "\n",
    "\n",
    "list1.extend(list3)\n",
    "print(list1)"
   ]
  },
  {
   "cell_type": "code",
   "execution_count": 28,
   "id": "7673082b",
   "metadata": {},
   "outputs": [
    {
     "name": "stdout",
     "output_type": "stream",
     "text": [
      "['rohit', 'gaurav', 'raj', 21, 24, 29]\n"
     ]
    }
   ],
   "source": [
    "list1 = ['rohit', 'gaurav', 'raj']\n",
    "\n",
    "tuple1 = (21,24,29)\n",
    "list2 = list(tuple1)\n",
    "\n",
    "list1 +=list2\n",
    "\n",
    "print(list1)"
   ]
  },
  {
   "cell_type": "markdown",
   "id": "7ebf3323",
   "metadata": {},
   "source": [
    "### Python – Closest Pair to Kth index element in Tuple\n"
   ]
  },
  {
   "cell_type": "code",
   "execution_count": 35,
   "id": "92dd28e8",
   "metadata": {},
   "outputs": [
    {
     "name": "stdout",
     "output_type": "stream",
     "text": [
      "(9, 23)\n"
     ]
    }
   ],
   "source": [
    "listed = [(3, 5), (78, 69), (19, 38), (9, 23), (19, 23)]\n",
    "\n",
    "\n",
    "tup = (17, 23)\n",
    "\n",
    "k = 2\n",
    "\n",
    "\n",
    "res = min(listed, key = lambda x: abs(x[k-1]-tup[k-1]))\n",
    "\n",
    "print(res)"
   ]
  },
  {
   "cell_type": "markdown",
   "id": "4800b7cb",
   "metadata": {},
   "source": [
    "### Python – Join Tuples if similar initial element\n"
   ]
  },
  {
   "cell_type": "code",
   "execution_count": 38,
   "id": "a77e3539",
   "metadata": {},
   "outputs": [],
   "source": [
    "from collections import defaultdict"
   ]
  },
  {
   "cell_type": "code",
   "execution_count": 46,
   "id": "2de56064",
   "metadata": {},
   "outputs": [
    {
     "name": "stdout",
     "output_type": "stream",
     "text": [
      "defaultdict(<class 'list'>, {})\n",
      "The extracted elements : [(5, 6, 7), (6, 8, 10), (7, 13)]\n"
     ]
    }
   ],
   "source": [
    "test_list = [(5, 6), (5, 7), (6, 8), (6, 10), (7, 13)]\n",
    "\n",
    "mapp = defaultdict(list)\n",
    "print(mapp)\n",
    "for key, val in test_list:\n",
    "    mapp[key].append(val)\n",
    "res = [(key, *val) for key, val in mapp.items()]\n",
    " \n",
    "# printing result\n",
    "print(\"The extracted elements : \" + str(res))"
   ]
  },
  {
   "cell_type": "markdown",
   "id": "176a4205",
   "metadata": {},
   "source": [
    "### Python – Extract digits from Tuple list\n"
   ]
  },
  {
   "cell_type": "code",
   "execution_count": null,
   "id": "bbebf189",
   "metadata": {},
   "outputs": [],
   "source": [
    "Input : test_list = [(15, 3), (3, 9)] \n",
    "    \n",
    "    Output : [9, 5, 3, 1]"
   ]
  },
  {
   "cell_type": "code",
   "execution_count": 68,
   "id": "e0760aaf",
   "metadata": {
    "scrolled": true
   },
   "outputs": [
    {
     "name": "stdout",
     "output_type": "stream",
     "text": [
      "[(15, 4), (3, 9), (1, 20), (69, 2)]\n",
      "<map object at 0x0000025D55174460>\n",
      "{'1', '9', '0', '5', '6', '3', '2', '4'}\n"
     ]
    }
   ],
   "source": [
    "test_list = [(15, 4), (3, 9), (1, 20), (69, 2)]\n",
    "\n",
    "\n",
    "print(test_list)\n",
    "\n",
    "\n",
    "res = map(lambda x: str(x), chain.from_iterable(test_list)) # to split 15 into 1,5 we need to convert it into string format\n",
    "\n",
    "final_res = set()\n",
    "print(res)\n",
    "\n",
    "for i in res:\n",
    "    for j in i:\n",
    "        final_res.add(j)\n",
    "        \n",
    "print(final_res)"
   ]
  },
  {
   "cell_type": "markdown",
   "id": "262d6ab3",
   "metadata": {},
   "source": [
    "### Python – All pair combinations of 2 tuples\n"
   ]
  },
  {
   "cell_type": "code",
   "execution_count": 74,
   "id": "9a2c0775",
   "metadata": {
    "scrolled": true
   },
   "outputs": [
    {
     "name": "stdout",
     "output_type": "stream",
     "text": [
      "individual tuple1 is: (7, 6)\n",
      "individual tuple1 is: (2, 9)\n",
      "all possible outcomes for tuple1 and tuple2 are : [(7, 2), (7, 9), (6, 2), (6, 9), (2, 7), (2, 6), (9, 7), (9, 6)]\n"
     ]
    }
   ],
   "source": [
    "tuple1 = (7,6)\n",
    "tuple2 = (2,9)\n",
    "\n",
    "print(\"individual tuple1 is:\",tuple1)\n",
    "print(\"individual tuple1 is:\",tuple2)\n",
    "\n",
    "\n",
    "res = [(a,b) for a in tuple1 for b in tuple2]\n",
    "result = res + [(c,d) for c in tuple2 for d in tuple1]\n",
    "print(\"all possible outcomes for tuple1 and tuple2 are :\",result)"
   ]
  },
  {
   "cell_type": "markdown",
   "id": "a0a8b3fe",
   "metadata": {},
   "source": [
    "### Python – Remove Tuples of Length K\n"
   ]
  },
  {
   "cell_type": "markdown",
   "id": "e4363f3e",
   "metadata": {},
   "source": [
    "Input : test_list = [(4, 5), (4, ), (8, 6, 7), (1, ), (3, 4, 6, 7)], K = 2 \n",
    "    \n",
    "Output : [(4, ), (8, 6, 7), (1, ), (3, 4, 6, 7)] \n",
    "    \n",
    "Explanation : (4, 5) of len = 2 is remove"
   ]
  },
  {
   "cell_type": "code",
   "execution_count": 101,
   "id": "42d85ba0",
   "metadata": {},
   "outputs": [
    {
     "name": "stdout",
     "output_type": "stream",
     "text": [
      "[(4, 5), (4, 4), (8, 6, 7), (1,), (3, 4, 6, 4, 7)]\n"
     ]
    }
   ],
   "source": [
    "\n",
    "\n",
    "\n",
    "def remove(inputs, k):\n",
    "    \n",
    "    for i in inputs:\n",
    "        if len(i) == k:\n",
    "            inputs.remove(i)\n",
    "    return inputs\n",
    "    \n",
    "test_list = [(4, 5), (4, 4), (8, 6, 7), (1, ), (3, 4, 6,4, 7)]\n",
    "\n",
    "\n",
    "print(remove(test_list, 6))"
   ]
  },
  {
   "cell_type": "code",
   "execution_count": 98,
   "id": "2b4db327",
   "metadata": {},
   "outputs": [
    {
     "name": "stdout",
     "output_type": "stream",
     "text": [
      "enter value of k :2\n",
      "[(8, 6, 7), (1,), (3, 4, 6, 4, 7)]\n"
     ]
    }
   ],
   "source": [
    "test_list = [(4, 5), (4, 4), (8, 6, 7), (1, ), (3, 4, 6,4, 7)]\n",
    "\n",
    "\n",
    "k = int(input(\"enter value of k :\"))\n",
    "\n",
    "\n",
    "result = [ele for ele in test_list if len(ele)!= k]\n",
    "\n",
    "print(result)"
   ]
  },
  {
   "cell_type": "markdown",
   "id": "1ae40212",
   "metadata": {},
   "source": [
    "### Python program to sort a list of tuples by second Item\n"
   ]
  },
  {
   "cell_type": "markdown",
   "id": "cbd79420",
   "metadata": {},
   "source": [
    "Input : [('go', 24), ('lets', 8), ('home', 30)] \n",
    "\n",
    "Output : [('lets', 8), ('go', 24), ('home', 30)]\n",
    "\n",
    "________________________________________________________________________________________________________________________________\n",
    "\n",
    "Input : [('452', 10), ('256', 5), ('100', 20), ('135', 15)]\n",
    "\n",
    "Output : [('256', 5), ('452', 10), ('135', 15), ('100', 20)]"
   ]
  },
  {
   "cell_type": "code",
   "execution_count": 108,
   "id": "d900dbda",
   "metadata": {},
   "outputs": [
    {
     "name": "stdout",
     "output_type": "stream",
     "text": [
      "[('akash', 5), ('rishav', 10), ('gaurav', 15), ('ram', 20)]\n"
     ]
    }
   ],
   "source": [
    "def sorting(tups):\n",
    "    \n",
    "    k = 2\n",
    "    tups.sort(key = lambda x :x[k-1])\n",
    "    \n",
    "    return tups\n",
    "\n",
    "tups = [('rishav', 10), ('akash', 5), ('ram', 20), ('gaurav', 15)] \n",
    "\n",
    "\n",
    "print(sorting(tups))"
   ]
  },
  {
   "cell_type": "markdown",
   "id": "74631ae4",
   "metadata": {},
   "source": [
    "### Python – Order Tuples by List\n"
   ]
  },
  {
   "cell_type": "code",
   "execution_count": 116,
   "id": "ba93948b",
   "metadata": {
    "scrolled": true
   },
   "outputs": [
    {
     "name": "stdout",
     "output_type": "stream",
     "text": [
      "the given order list is :\n",
      " ['gaurav', 'ram', 'akash', 'rishav']\n",
      " the result of the list with the given order is :\n",
      " [('gaurav', 15), ('ram', 20), ('akash', 5), ('rishav', 10)]\n"
     ]
    }
   ],
   "source": [
    "tups = [('rishav', 10), ('akash', 5), ('ram', 20), ('gaurav', 15)] \n",
    "\n",
    "\n",
    "order_list = ['gaurav', 'ram','akash', 'rishav']\n",
    "\n",
    "print(\"the given order list is :\\n\", order_list)\n",
    "\n",
    "dicto = dict(tups)\n",
    "\n",
    "result = [(key, dicto[key]) for key in order_list]\n",
    "\n",
    "print(\" the result of the list with the given order is :\\n\", result)"
   ]
  },
  {
   "cell_type": "markdown",
   "id": "dc7b746a",
   "metadata": {},
   "source": [
    "### Python – Flatten tuple of List to tuple\n"
   ]
  },
  {
   "cell_type": "code",
   "execution_count": 120,
   "id": "b924bc35",
   "metadata": {},
   "outputs": [
    {
     "data": {
      "text/plain": [
       "(5, 6, 6, 7, 8, 9, 3)"
      ]
     },
     "execution_count": 120,
     "metadata": {},
     "output_type": "execute_result"
    }
   ],
   "source": [
    "test_tuple = ([5, 6], [6, 7, 8, 9], [3])\n",
    "\n",
    "test = []\n",
    "for i in test_tuple:\n",
    "    for j in i:\n",
    "        test.append(j)\n",
    "        \n",
    "        \n",
    "test = tuple(test)\n",
    "    \n",
    "\n",
    "test"
   ]
  },
  {
   "cell_type": "code",
   "execution_count": 123,
   "id": "5495fcf1",
   "metadata": {},
   "outputs": [
    {
     "name": "stdout",
     "output_type": "stream",
     "text": [
      "(5, 6, 6, 7, 8, 9, 3)\n"
     ]
    }
   ],
   "source": [
    "from itertools import chain\n",
    "test_tuple = ([5, 6], [6, 7, 8, 9], [3])\n",
    "\n",
    "\n",
    "res = tuple(chain.from_iterable(test_tuple))\n",
    "\n",
    "\n",
    "print(res)"
   ]
  },
  {
   "cell_type": "markdown",
   "id": "02ae9e51",
   "metadata": {},
   "source": [
    "### Python – Convert Nested Tuple to Custom Key Dictionary"
   ]
  },
  {
   "cell_type": "code",
   "execution_count": 125,
   "id": "cbc04cb5",
   "metadata": {},
   "outputs": [
    {
     "name": "stdout",
     "output_type": "stream",
     "text": [
      " the result is : [{'key': 4, 'value': 'all', 'id': 10}, {'key': 3, 'value': 'is', 'id': 8}, {'key': 6, 'value': 'Best', 'id': 10}]\n"
     ]
    }
   ],
   "source": [
    "test_tuple = ((4, 'all', 10), (3, 'is', 8), (6, 'Best', 10)) \n",
    "\n",
    "\n",
    "keys = ['key', 'value', 'id'] \n",
    "\n",
    "\n",
    "result = [{key :val for key, val in zip(keys,sub)}\n",
    "         for sub in test_tuple]\n",
    "\n",
    "print(\" the result is :\",result)"
   ]
  },
  {
   "cell_type": "code",
   "execution_count": null,
   "id": "e9abf8a2",
   "metadata": {},
   "outputs": [],
   "source": []
  }
 ],
 "metadata": {
  "kernelspec": {
   "display_name": "Python 3 (ipykernel)",
   "language": "python",
   "name": "python3"
  },
  "language_info": {
   "codemirror_mode": {
    "name": "ipython",
    "version": 3
   },
   "file_extension": ".py",
   "mimetype": "text/x-python",
   "name": "python",
   "nbconvert_exporter": "python",
   "pygments_lexer": "ipython3",
   "version": "3.10.9"
  }
 },
 "nbformat": 4,
 "nbformat_minor": 5
}
